{
 "cells": [
  {
   "cell_type": "code",
   "execution_count": 38,
   "id": "c2b5ef73",
   "metadata": {},
   "outputs": [],
   "source": [
    "import pickle\n",
    "import tensorflow as tf\n",
    "from tensorflow.keras.models import Sequential\n",
    "from tensorflow.keras.layers import Dense, Dropout, Activation, Flatten, Conv2D, MaxPooling2D"
   ]
  },
  {
   "cell_type": "code",
   "execution_count": 39,
   "id": "114799f9",
   "metadata": {},
   "outputs": [],
   "source": [
    "X = pickle.load(open(\"f.pickle\",\"rb\"))\n",
    "y = pickle.load(open(\"l.pickle\",\"rb\"))"
   ]
  },
  {
   "cell_type": "code",
   "execution_count": 40,
   "id": "5fc3cc64",
   "metadata": {},
   "outputs": [],
   "source": [
    "model = Sequential()\n",
    "X = X/255.0"
   ]
  },
  {
   "cell_type": "code",
   "execution_count": 41,
   "id": "3d01422e",
   "metadata": {},
   "outputs": [],
   "source": [
    "model.add(Conv2D(128, (3,3) ,input_shape = X.shape[1:]))\n",
    "model.add(Activation(\"relu\"))\n",
    "model.add(MaxPooling2D(pool_size=(2,2)))"
   ]
  },
  {
   "cell_type": "code",
   "execution_count": 42,
   "id": "a7275085",
   "metadata": {},
   "outputs": [],
   "source": [
    "model.add(Conv2D(128, (3,3)))\n",
    "model.add(Activation(\"relu\"))\n",
    "model.add(MaxPooling2D(pool_size=(2,2)))"
   ]
  },
  {
   "cell_type": "code",
   "execution_count": 43,
   "id": "8c3b3d69",
   "metadata": {},
   "outputs": [],
   "source": [
    "model.add(Conv2D(128, (4,4)))\n",
    "model.add(Activation(\"relu\"))\n",
    "model.add(MaxPooling2D(pool_size=(3,3)))"
   ]
  },
  {
   "cell_type": "code",
   "execution_count": 44,
   "id": "79ca7eb2",
   "metadata": {},
   "outputs": [],
   "source": [
    "model.add(Flatten())\n",
    "model.add(Dense(64))\n",
    "model.add(Activation(\"relu\"))"
   ]
  },
  {
   "cell_type": "code",
   "execution_count": 45,
   "id": "c6dbbf42",
   "metadata": {},
   "outputs": [],
   "source": [
    "model.add(tf.keras.layers.Dense(26, activation=tf.nn.softmax))"
   ]
  },
  {
   "cell_type": "code",
   "execution_count": 46,
   "id": "7f58a439",
   "metadata": {},
   "outputs": [
    {
     "name": "stdout",
     "output_type": "stream",
     "text": [
      "Epoch 1/2\n",
      "854/854 [==============================] - 499s 583ms/step - loss: 1.4240 - accuracy: 0.5619 - val_loss: 0.6047 - val_accuracy: 0.7997\n",
      "Epoch 2/2\n",
      "854/854 [==============================] - 498s 583ms/step - loss: 0.3547 - accuracy: 0.8834 - val_loss: 0.2043 - val_accuracy: 0.9332\n"
     ]
    },
    {
     "data": {
      "text/plain": [
       "<keras.callbacks.History at 0x19e4a2d3310>"
      ]
     },
     "execution_count": 46,
     "metadata": {},
     "output_type": "execute_result"
    }
   ],
   "source": [
    "model.compile(optimizer='adam', loss='sparse_categorical_crossentropy',metrics=['accuracy'])\n",
    "model.fit(X,y,epochs=2, batch_size=64, validation_split=0.3)"
   ]
  },
  {
   "cell_type": "code",
   "execution_count": 47,
   "id": "cd27ca1c",
   "metadata": {},
   "outputs": [
    {
     "name": "stdout",
     "output_type": "stream",
     "text": [
      "INFO:tensorflow:Assets written to: ASL.model\\assets\n"
     ]
    }
   ],
   "source": [
    "model.save('ASL.model')"
   ]
  }
 ],
 "metadata": {
  "kernelspec": {
   "display_name": "Python 3 (ipykernel)",
   "language": "python",
   "name": "python3"
  },
  "language_info": {
   "codemirror_mode": {
    "name": "ipython",
    "version": 3
   },
   "file_extension": ".py",
   "mimetype": "text/x-python",
   "name": "python",
   "nbconvert_exporter": "python",
   "pygments_lexer": "ipython3",
   "version": "3.9.7"
  }
 },
 "nbformat": 4,
 "nbformat_minor": 5
}
