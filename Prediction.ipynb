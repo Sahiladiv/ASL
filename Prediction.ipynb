{
 "cells": [
  {
   "cell_type": "code",
   "execution_count": 75,
   "id": "30d21aff",
   "metadata": {},
   "outputs": [],
   "source": [
    "import numpy\n",
    "import cv2\n",
    "import tensorflow as tf"
   ]
  },
  {
   "cell_type": "code",
   "execution_count": 76,
   "id": "d8a30030",
   "metadata": {},
   "outputs": [],
   "source": [
    "CATEGORIES = []\n",
    "\n",
    "for i in range(65,91):\n",
    "    CATEGORIES.append(chr(i))"
   ]
  },
  {
   "cell_type": "code",
   "execution_count": 77,
   "id": "03d8f6c1",
   "metadata": {},
   "outputs": [],
   "source": [
    "def prepare(filepath):\n",
    "    img_array = cv2.imread(filepath, cv2.IMREAD_GRAYSCALE)\n",
    "    dim = (50,50)\n",
    "    try:\n",
    "        img_array = cv2.resize(img_array, dim)\n",
    "        return img_array.reshape(-1,50,50,1)\n",
    "    except Exception:\n",
    "        pass\n",
    "    return -1"
   ]
  },
  {
   "cell_type": "code",
   "execution_count": 78,
   "id": "87c18d9c",
   "metadata": {},
   "outputs": [],
   "source": [
    "model = tf.keras.models.load_model(\"ASL.model\")"
   ]
  },
  {
   "cell_type": "code",
   "execution_count": 79,
   "id": "82d1a835",
   "metadata": {},
   "outputs": [],
   "source": [
    "prediction = model.predict([prepare('A1.jpg')])\n",
    "# prediction.max()"
   ]
  },
  {
   "cell_type": "code",
   "execution_count": 80,
   "id": "ba7cbb12",
   "metadata": {},
   "outputs": [],
   "source": [
    "temp = prediction.tolist()"
   ]
  },
  {
   "cell_type": "code",
   "execution_count": 81,
   "id": "aa2a205f",
   "metadata": {},
   "outputs": [],
   "source": [
    "t = temp[0]"
   ]
  },
  {
   "cell_type": "code",
   "execution_count": 82,
   "id": "6f370062",
   "metadata": {},
   "outputs": [],
   "source": [
    "y = max(t)"
   ]
  },
  {
   "cell_type": "code",
   "execution_count": 83,
   "id": "80d47c95",
   "metadata": {},
   "outputs": [],
   "source": [
    "n = t.index(y)"
   ]
  },
  {
   "cell_type": "code",
   "execution_count": 84,
   "id": "c4cb2d43",
   "metadata": {},
   "outputs": [
    {
     "data": {
      "text/plain": [
       "'A'"
      ]
     },
     "execution_count": 84,
     "metadata": {},
     "output_type": "execute_result"
    }
   ],
   "source": [
    "CATEGORIES[n]"
   ]
  },
  {
   "cell_type": "code",
   "execution_count": null,
   "id": "6a3197f7",
   "metadata": {},
   "outputs": [],
   "source": []
  }
 ],
 "metadata": {
  "kernelspec": {
   "display_name": "Python 3 (ipykernel)",
   "language": "python",
   "name": "python3"
  },
  "language_info": {
   "codemirror_mode": {
    "name": "ipython",
    "version": 3
   },
   "file_extension": ".py",
   "mimetype": "text/x-python",
   "name": "python",
   "nbconvert_exporter": "python",
   "pygments_lexer": "ipython3",
   "version": "3.9.7"
  }
 },
 "nbformat": 4,
 "nbformat_minor": 5
}
